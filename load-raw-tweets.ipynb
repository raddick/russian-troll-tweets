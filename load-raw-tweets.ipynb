{
 "cells": [
  {
   "cell_type": "code",
   "execution_count": 1,
   "metadata": {},
   "outputs": [],
   "source": [
    "import pandas\n",
    "import os\n",
    "import time\n",
    "from IPython.display import display, HTML\n",
    "from matplotlib import pyplot as plt"
   ]
  },
  {
   "cell_type": "markdown",
   "metadata": {},
   "source": [
    "# Load 9 separate CSVs into one DataFrame"
   ]
  },
  {
   "cell_type": "code",
   "execution_count": 2,
   "metadata": {},
   "outputs": [
    {
     "name": "stdout",
     "output_type": "stream",
     "text": [
      "Loaded 2,973,371 tweets in 32 seconds.\n"
     ]
    }
   ],
   "source": [
    "s = time.time()\n",
    "datafiles = os.listdir()\n",
    "datafiles = [x for x in datafiles if '.csv' in x]\n",
    "tweets_df = pandas.DataFrame()\n",
    "for thisfile in datafiles:\n",
    "    tweets_df = pandas.concat([tweets_df, pandas.read_csv(thisfile, dtype='object', encoding='utf-8')], sort=False)\n",
    "tweets_df.index.name = 'tweet_id'\n",
    "totalsize = len(tweets_df)\n",
    "e = time.time()\n",
    "\n",
    "print('Loaded {0:,.0f} tweets in {1:,.0f} seconds.'.format(len(tweets_df), e-s))"
   ]
  },
  {
   "cell_type": "markdown",
   "metadata": {},
   "source": [
    "# Convert columns into numerics and dates where needed"
   ]
  },
  {
   "cell_type": "code",
   "execution_count": 3,
   "metadata": {},
   "outputs": [
    {
     "name": "stdout",
     "output_type": "stream",
     "text": [
      "converting external_author_id...\n",
      "converting following...\n",
      "converting followers...\n",
      "converting updates...\n",
      "converting publish_date...\n",
      "converting harvested_date...\n",
      "Converted all values in 2,197 seconds.\n"
     ]
    }
   ],
   "source": [
    "s = time.time()\n",
    "for thiscol in ['external_author_id', 'following', 'followers', 'updates']:\n",
    "    print('converting {:}...'.format(thiscol))\n",
    "    tweets_df[thiscol] = pandas.to_numeric(tweets_df[thiscol], errors='coerce')\n",
    "\n",
    "for thiscol in ['publish_date', 'harvested_date']:\n",
    "    print('converting {:}...'.format(thiscol))\n",
    "    tweets_df[thiscol] = pandas.to_datetime(tweets_df[thiscol])\n",
    "e = time.time()\n",
    "\n",
    "print('Converted all values in {0:,.0f} seconds.'.format(e-s))"
   ]
  },
  {
   "cell_type": "markdown",
   "metadata": {},
   "source": [
    "# Write output into single CSV file"
   ]
  },
  {
   "cell_type": "code",
   "execution_count": 4,
   "metadata": {},
   "outputs": [
    {
     "name": "stdout",
     "output_type": "stream",
     "text": [
      "ok\n"
     ]
    }
   ],
   "source": [
    "#tweets_df.dtypes\n",
    "#os.listdir()\n",
    "tweets_df.to_csv('tweets.csv', encoding='utf-8')\n",
    "print('ok')"
   ]
  },
  {
   "cell_type": "code",
   "execution_count": 5,
   "metadata": {},
   "outputs": [
    {
     "data": {
      "text/plain": [
       "2973371"
      ]
     },
     "execution_count": 5,
     "metadata": {},
     "output_type": "execute_result"
    }
   ],
   "source": [
    "df = pandas.read_csv('tweets.csv', encoding='utf-8')\n",
    "len(df)"
   ]
  }
 ],
 "metadata": {
  "kernelspec": {
   "display_name": "Python 3",
   "language": "python",
   "name": "python3"
  },
  "language_info": {
   "codemirror_mode": {
    "name": "ipython",
    "version": 3
   },
   "file_extension": ".py",
   "mimetype": "text/x-python",
   "name": "python",
   "nbconvert_exporter": "python",
   "pygments_lexer": "ipython3",
   "version": "3.6.5"
  }
 },
 "nbformat": 4,
 "nbformat_minor": 2
}
