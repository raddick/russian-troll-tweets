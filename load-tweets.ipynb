{
 "cells": [
  {
   "cell_type": "code",
   "execution_count": 1,
   "metadata": {},
   "outputs": [
    {
     "name": "stderr",
     "output_type": "stream",
     "text": [
      "/home/idies/miniconda3/lib/python3.6/importlib/_bootstrap.py:219: RuntimeWarning: numpy.dtype size changed, may indicate binary incompatibility. Expected 96, got 88\n",
      "  return f(*args, **kwds)\n",
      "/home/idies/miniconda3/lib/python3.6/importlib/_bootstrap.py:219: RuntimeWarning: numpy.dtype size changed, may indicate binary incompatibility. Expected 96, got 88\n",
      "  return f(*args, **kwds)\n"
     ]
    },
    {
     "name": "stdout",
     "output_type": "stream",
     "text": [
      "ok\n"
     ]
    }
   ],
   "source": [
    "import pandas\n",
    "import os\n",
    "import time\n",
    "from IPython.display import display, HTML\n",
    "from matplotlib import pyplot as plt\n",
    "from matplotlib import dates as mdates\n",
    "from datetime import datetime#, timedelta\n",
    "from dateutil.relativedelta import relativedelta\n",
    "import re\n",
    "print('ok')"
   ]
  },
  {
   "cell_type": "markdown",
   "metadata": {},
   "source": [
    "# Load data"
   ]
  },
  {
   "cell_type": "code",
   "execution_count": 2,
   "metadata": {},
   "outputs": [
    {
     "name": "stdout",
     "output_type": "stream",
     "text": [
      "Loaded 2,973,371 tweets in 31 seconds!\n",
      "converting dates...\n",
      "Data loaded in 4 seconds!\n",
      "Selected 1,849,687 U.S.-region English-language tweets in 1.2 seconds.\n"
     ]
    },
    {
     "data": {
      "text/html": [
       "<div>\n",
       "<style scoped>\n",
       "    .dataframe tbody tr th:only-of-type {\n",
       "        vertical-align: middle;\n",
       "    }\n",
       "\n",
       "    .dataframe tbody tr th {\n",
       "        vertical-align: top;\n",
       "    }\n",
       "\n",
       "    .dataframe thead th {\n",
       "        text-align: right;\n",
       "    }\n",
       "</style>\n",
       "<table border=\"1\" class=\"dataframe\">\n",
       "  <thead>\n",
       "    <tr style=\"text-align: right;\">\n",
       "      <th></th>\n",
       "      <th>external_author_id</th>\n",
       "      <th>author</th>\n",
       "      <th>content</th>\n",
       "      <th>region</th>\n",
       "      <th>language</th>\n",
       "      <th>publish_date</th>\n",
       "      <th>harvested_date</th>\n",
       "      <th>following</th>\n",
       "      <th>followers</th>\n",
       "      <th>updates</th>\n",
       "      <th>post_type</th>\n",
       "      <th>account_type</th>\n",
       "      <th>new_june_2018</th>\n",
       "      <th>retweet</th>\n",
       "      <th>account_category</th>\n",
       "    </tr>\n",
       "    <tr>\n",
       "      <th>tweet_id</th>\n",
       "      <th></th>\n",
       "      <th></th>\n",
       "      <th></th>\n",
       "      <th></th>\n",
       "      <th></th>\n",
       "      <th></th>\n",
       "      <th></th>\n",
       "      <th></th>\n",
       "      <th></th>\n",
       "      <th></th>\n",
       "      <th></th>\n",
       "      <th></th>\n",
       "      <th></th>\n",
       "      <th></th>\n",
       "      <th></th>\n",
       "    </tr>\n",
       "  </thead>\n",
       "  <tbody>\n",
       "    <tr>\n",
       "      <th>315191</th>\n",
       "      <td>4.355797e+09</td>\n",
       "      <td>SOUTHLONESTAR</td>\n",
       "      <td>Europe launches direct #rapefugee train route ...</td>\n",
       "      <td>United States</td>\n",
       "      <td>English</td>\n",
       "      <td>2016-02-18 23:50:00</td>\n",
       "      <td>2016-02-18 23:50:00</td>\n",
       "      <td>5321</td>\n",
       "      <td>5582</td>\n",
       "      <td>836</td>\n",
       "      <td>NaN</td>\n",
       "      <td>Right</td>\n",
       "      <td>0</td>\n",
       "      <td>0</td>\n",
       "      <td>RightTroll</td>\n",
       "    </tr>\n",
       "    <tr>\n",
       "      <th>266641</th>\n",
       "      <td>1.658421e+09</td>\n",
       "      <td>BAOBAEHAM</td>\n",
       "      <td>#NowPlaying: \"Revolution\" Snoop Dogg feat. Oct...</td>\n",
       "      <td>United States</td>\n",
       "      <td>English</td>\n",
       "      <td>2016-11-13 09:10:00</td>\n",
       "      <td>2016-11-13 09:10:00</td>\n",
       "      <td>833</td>\n",
       "      <td>1035</td>\n",
       "      <td>2418</td>\n",
       "      <td>RETWEET</td>\n",
       "      <td>left</td>\n",
       "      <td>0</td>\n",
       "      <td>1</td>\n",
       "      <td>LeftTroll</td>\n",
       "    </tr>\n",
       "    <tr>\n",
       "      <th>174483</th>\n",
       "      <td>1.877493e+09</td>\n",
       "      <td>CHESPLAYSCHESS</td>\n",
       "      <td>PimpBillClinton: RT leyawn: SOCRATES: I am wis...</td>\n",
       "      <td>United States</td>\n",
       "      <td>English</td>\n",
       "      <td>2016-12-04 04:10:00</td>\n",
       "      <td>2016-12-04 04:10:00</td>\n",
       "      <td>1049</td>\n",
       "      <td>1389</td>\n",
       "      <td>16326</td>\n",
       "      <td>RETWEET</td>\n",
       "      <td>Right</td>\n",
       "      <td>0</td>\n",
       "      <td>1</td>\n",
       "      <td>RightTroll</td>\n",
       "    </tr>\n",
       "  </tbody>\n",
       "</table>\n",
       "</div>"
      ],
      "text/plain": [
       "          external_author_id          author  \\\n",
       "tweet_id                                       \n",
       "315191          4.355797e+09   SOUTHLONESTAR   \n",
       "266641          1.658421e+09       BAOBAEHAM   \n",
       "174483          1.877493e+09  CHESPLAYSCHESS   \n",
       "\n",
       "                                                    content         region  \\\n",
       "tweet_id                                                                     \n",
       "315191    Europe launches direct #rapefugee train route ...  United States   \n",
       "266641    #NowPlaying: \"Revolution\" Snoop Dogg feat. Oct...  United States   \n",
       "174483    PimpBillClinton: RT leyawn: SOCRATES: I am wis...  United States   \n",
       "\n",
       "         language        publish_date      harvested_date  following  \\\n",
       "tweet_id                                                               \n",
       "315191    English 2016-02-18 23:50:00 2016-02-18 23:50:00       5321   \n",
       "266641    English 2016-11-13 09:10:00 2016-11-13 09:10:00        833   \n",
       "174483    English 2016-12-04 04:10:00 2016-12-04 04:10:00       1049   \n",
       "\n",
       "          followers  updates post_type account_type  new_june_2018  retweet  \\\n",
       "tweet_id                                                                      \n",
       "315191         5582      836       NaN        Right              0        0   \n",
       "266641         1035     2418   RETWEET         left              0        1   \n",
       "174483         1389    16326   RETWEET        Right              0        1   \n",
       "\n",
       "         account_category  \n",
       "tweet_id                   \n",
       "315191         RightTroll  \n",
       "266641          LeftTroll  \n",
       "174483         RightTroll  "
      ]
     },
     "execution_count": 2,
     "metadata": {},
     "output_type": "execute_result"
    }
   ],
   "source": [
    "s = time.time()\n",
    "tweets_df = pandas.read_csv('tweets.csv', low_memory=False, encoding='utf-8')\n",
    "e = time.time()\n",
    "print('Loaded {0:,.0f} tweets in {1:,.0f} seconds!'.format(len(tweets_df), e-s))\n",
    "\n",
    "s = time.time()\n",
    "print('converting dates...')\n",
    "tweets_df['publish_date'] = pandas.to_datetime(tweets_df['publish_date'])\n",
    "tweets_df['harvested_date'] = pandas.to_datetime(tweets_df['harvested_date'])\n",
    "\n",
    "tweets_df = tweets_df.set_index('tweet_id')\n",
    "totalsize = len(tweets_df)\n",
    "e = time.time()\n",
    "print('Data loaded in {0:,.0f} seconds!'.format(e-s))\n",
    "s = time.time()\n",
    "usa_tweets_df = tweets_df[(tweets_df['region'] == 'United States') & (tweets_df['language'] == 'English')]\n",
    "e = time.time()\n",
    "print('Selected {0:,.0f} U.S.-region English-language tweets in {1:,.1f} seconds.'.format(len(usa_tweets_df), e-s))\n",
    "#tweets_df.dtypes\n",
    "usa_tweets_df.sample(3)"
   ]
  },
  {
   "cell_type": "markdown",
   "metadata": {},
   "source": [
    "# Display number of tweets by region"
   ]
  },
  {
   "cell_type": "code",
   "execution_count": null,
   "metadata": {},
   "outputs": [],
   "source": [
    "#tweets_english_df = tweets_df[tweets_df['language'] == 'English']\n",
    "regions_s = tweets_df.groupby('region').size().sort_values(ascending=False)\n",
    "othercount = 0\n",
    "htmlString = '<table>'\n",
    "htmlString += '<tr><th>Region</th><th>Tweets</th><th>Percentage</th></tr>'\n",
    "for thisregion, thisn in regions_s.iteritems():\n",
    "    htmlString += '<tr>'\n",
    "    if (thisn < 1000):\n",
    "        othercount = othercount + thisn\n",
    "    else:\n",
    "        htmlString += '<td>' + thisregion + '</td>'\n",
    "        htmlString += '<td>' + '{0:,.0f}'.format(thisn) + '</td>'\n",
    "        if (thisn < (totalsize * 0.01)):\n",
    "            htmlString += '<td>' + '{0:0.3%}'.format(thisn/totalsize) + '</td>'\n",
    "        else:\n",
    "            htmlString += '<td>' + '{0:0.1%}'.format(thisn/totalsize) + '</td>'\n",
    "    htmlString += '</tr>'\n",
    "htmlString += '<tr><td>{0:}</td><td>{1:,.0f}</td><td>{2:0.3%}'.format('All others', othercount, othercount/totalsize)\n",
    "htmlString += '</table>'\n",
    "\n",
    "\n",
    "display(HTML(htmlString))"
   ]
  },
  {
   "cell_type": "markdown",
   "metadata": {},
   "source": [
    "# Display number of tweets by language"
   ]
  },
  {
   "cell_type": "code",
   "execution_count": null,
   "metadata": {},
   "outputs": [],
   "source": [
    "#tweets_english_df = tweets_df[tweets_df['language'] == 'English']\n",
    "languages_s = tweets_df.groupby('language').size().sort_values(ascending=False)\n",
    "othercount = 0\n",
    "htmlString = '<table>'\n",
    "htmlString += '<tr><th>Language</th><th>Tweets</th><th>Percentage</th></tr>'\n",
    "for thislang, thisn in languages_s.iteritems():\n",
    "    htmlString += '<tr>'\n",
    "    if (thisn < 8000):\n",
    "        othercount = othercount + thisn\n",
    "    else:\n",
    "        htmlString += '<td>' + thislang + '</td>'\n",
    "        htmlString += '<td>' + '{0:,.0f}'.format(thisn) + '</td>'\n",
    "        if (thisn < (totalsize * 0.01)):\n",
    "            htmlString += '<td>' + '{0:0.3%}'.format(thisn/totalsize) + '</td>'\n",
    "        else:\n",
    "            htmlString += '<td>' + '{0:0.1%}'.format(thisn/totalsize) + '</td>'\n",
    "    htmlString += '</tr>'\n",
    "htmlString += '<tr><td>{0:}</td><td>{1:,.0f}</td><td>{2:0.3%}'.format('All others', othercount, othercount/totalsize)\n",
    "htmlString += '</table>'\n",
    "\n",
    "\n",
    "display(HTML(htmlString))"
   ]
  },
  {
   "cell_type": "markdown",
   "metadata": {},
   "source": [
    "# Plot number of tweets per day"
   ]
  },
  {
   "cell_type": "code",
   "execution_count": null,
   "metadata": {},
   "outputs": [],
   "source": [
    "df = tweets_df.sample(1000)\n",
    "fig, ax = plt.subplots(figsize=(15,6))\n",
    "\n",
    "thedates = []\n",
    "date1 = datetime.strptime('2014-10-01', '%Y-%m-%d')\n",
    "date2 = datetime.strptime('2018-01-01', '%Y-%m-%d')\n",
    "thisdate = date1\n",
    "while (thisdate <= date2):\n",
    "    thedates.append(thisdate)\n",
    "    thisdate = thisdate + relativedelta(days=1)\n",
    "\n",
    "thedates = [mdates.date2num(x) for x in thedates]\n",
    "ax = tweets_df['publish_date'].hist(bins=thedates, color='#ff4500')\n",
    "\n",
    "months = mdates.MonthLocator(interval = 3)\n",
    "monthsFmt = mdates.DateFormatter('%b %Y')\n",
    "\n",
    "ax.set_xlim((date1,date2))\n",
    "\n",
    "ax.xaxis.set_major_locator(months)\n",
    "ax.xaxis.set_major_formatter(monthsFmt)\n",
    "tickvalues = ax.get_yticks()\n",
    "ax.yaxis.set_ticklabels('{:,.0f}'.format(x) for x in tickvalues)\n",
    "\n",
    "ax.set_xlabel('Date', fontsize=16)\n",
    "ax.set_ylabel('Tweets per day', fontsize=16)\n",
    "plt.title('Russian troll tweets by day', fontsize=24)\n",
    "\n",
    "#plt.savefig('tweets_per_day.svg', format='svg')\n",
    "#print('Figure saved!')\n",
    "plt.show()"
   ]
  },
  {
   "cell_type": "markdown",
   "metadata": {},
   "source": [
    "# Look for tweets that pretend to be Americans"
   ]
  },
  {
   "cell_type": "code",
   "execution_count": 10,
   "metadata": {},
   "outputs": [
    {
     "data": {
      "text/plain": [
       "tweet_id\n",
       "221052    USA_GUNSLINGER\n",
       "34212       GUNS4LIFE_ME\n",
       "Name: author, dtype: object"
      ]
     },
     "execution_count": 10,
     "metadata": {},
     "output_type": "execute_result"
    }
   ],
   "source": [
    "usa_tweets_df['author'][usa_tweets_df['author'].apply(lambda x: re.search('gun', str(x).lower()) != None)].drop_duplicates()"
   ]
  },
  {
   "cell_type": "code",
   "execution_count": null,
   "metadata": {},
   "outputs": [],
   "source": [
    "rei = re.compile('I+(\\'|a)+m+\\s+')\n",
    "usai = re.compile('(u+\\.*s+\\.*a+\\.)|(united states)|america+\\n*')\n",
    "rttag = re.compile('^RT+')\n",
    "\n",
    "usa_tweets_df[['author', 'account_category', 'publish_date', 'content']][\n",
    "    (usa_tweets_df['retweet'] == 0) &\n",
    "    (usa_tweets_df['content'].apply(lambda x: re.search(rttag,str(x)) == None)) &\n",
    "    (usa_tweets_df['content'].apply(lambda x: re.search(rei,str(x)) != None)) &\n",
    "    (usa_tweets_df['content'].apply(lambda x: re.search(usai, str(x).lower()) != None))\n",
    "].to_csv('fake_americans.csv')#.tolist()\n",
    "print('File written')"
   ]
  },
  {
   "cell_type": "markdown",
   "metadata": {},
   "source": [
    "# Look for tweets with conservative watchword \"illegals\""
   ]
  },
  {
   "cell_type": "code",
   "execution_count": null,
   "metadata": {},
   "outputs": [],
   "source": [
    "illegals_df = tweets_df[\n",
    "    (tweets_df['region'] == 'United States') & \n",
    "    (tweets_df['language'] == 'English') &\n",
    "    (tweets_df['content'].apply(lambda x: 'illegals' in str(x)))\n",
    "]#.shape#.sample(10)\n",
    "\n",
    "fig, ax = plt.subplots(figsize=(15,6))\n",
    "\n",
    "thedates = []\n",
    "date1 = datetime.strptime('2014-10-01', '%Y-%m-%d')\n",
    "date2 = datetime.strptime('2018-01-01', '%Y-%m-%d')\n",
    "thisdate = date1\n",
    "while (thisdate <= date2):\n",
    "    thedates.append(thisdate)\n",
    "    thisdate = thisdate + relativedelta(days=1)\n",
    "\n",
    "thedates = [mdates.date2num(x) for x in thedates]\n",
    "ax = illegals_df['publish_date'].hist(bins=thedates, color='#ff4500')\n",
    "\n",
    "months = mdates.MonthLocator(interval = 3)\n",
    "monthsFmt = mdates.DateFormatter('%b %Y')\n",
    "\n",
    "ax.set_xlim((date1,date2))\n",
    "\n",
    "ax.xaxis.set_major_locator(months)\n",
    "ax.xaxis.set_major_formatter(monthsFmt)\n",
    "tickvalues = ax.get_yticks()\n",
    "ax.yaxis.set_ticklabels('{:,.0f}'.format(x) for x in tickvalues)\n",
    "\n",
    "ax.set_xlabel('Date', fontsize=16)\n",
    "ax.set_ylabel('Tweets per day', fontsize=16)\n",
    "plt.title('Russian troll tweets with the word \"illegals\" by day', fontsize=24)\n",
    "\n",
    "#plt.savefig('tweets_per_day.svg', format='svg')\n",
    "#print('Figure saved!')\n",
    "plt.show()"
   ]
  },
  {
   "cell_type": "code",
   "execution_count": null,
   "metadata": {},
   "outputs": [],
   "source": []
  }
 ],
 "metadata": {
  "kernelspec": {
   "display_name": "Python 3",
   "language": "python",
   "name": "python3"
  },
  "language_info": {
   "codemirror_mode": {
    "name": "ipython",
    "version": 3
   },
   "file_extension": ".py",
   "mimetype": "text/x-python",
   "name": "python",
   "nbconvert_exporter": "python",
   "pygments_lexer": "ipython3",
   "version": "3.6.6"
  }
 },
 "nbformat": 4,
 "nbformat_minor": 2
}
